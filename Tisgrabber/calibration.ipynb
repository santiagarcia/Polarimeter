{
 "cells": [
  {
   "cell_type": "markdown",
   "source": [
    "# **Calibration of a complete Mueller polarimeter**\n",
    "*Author*: @ mariajloperaa\n",
    "\n",
    "## This notebook contains all the elements to calibrate and use the automatic Mueller polarimeter. The calibration assumes a vertical polarized light source.\n",
    "The polarimeter consists on a polarized light source, on a PSG a $\\lambda/2$ followed by a $\\lambda/4$, then after the sample a $\\lambda/4$ followed by a linear polarizer.\n",
    "\n",
    "The **initial calibration** consists on finding the steps per revolution or the steps per degree of each motor.\n",
    "Later the elements should be positioned as follows: Linear Polarizer, $\\lambda/2 (PSG)$, $\\lambda/4 (PGS)$, $\\lambda/4 (PSA)$ following the commands regarding the **second callibration**.\n"
   ],
   "metadata": {
    "collapsed": false
   }
  },
  {
   "cell_type": "code",
   "execution_count": 5,
   "metadata": {
    "collapsed": true,
    "ExecuteTime": {
     "end_time": "2024-03-07T18:56:51.220842Z",
     "start_time": "2024-03-07T18:56:51.211297Z"
    }
   },
   "outputs": [],
   "source": [
    "from polarimeter_functions import *\n",
    "import timeit\n",
    "import serial\n",
    "# import tisgrabber as IC\n",
    "import numpy as np\n",
    "import pandas as pd\n",
    "import cv2 as cv"
   ]
  },
  {
   "cell_type": "code",
   "execution_count": 6,
   "outputs": [],
   "source": [
    "def measure_irradiance(Camera):\n",
    "    Camera.SnapImage()\n",
    "    image = Camera.GetImage()\n",
    "    image = cv2.flip(image, 0)\n",
    "    total_irradiance = np.sum(image)\n",
    "    return total_irradiance\n",
    "\n",
    "# Function to move motor\n",
    "def move_motor(ser, motor_number, steps):\n",
    "    command = f\"{motor_number},{steps}\\n\"\n",
    "    ser.write(command.encode())\n",
    "\n",
    "def calibration_spr(ser,cam,motor_number, step,iterations):\n",
    "    irradiance_ = []\n",
    "    position_ = []\n",
    "    time_ = []\n",
    "    position = 0\n",
    "    time0 = timeit.timeit()\n",
    "    for it in range(iterations):\n",
    "        move_motor(ser,motor_number, step)\n",
    "        irradiance = measure_irradiance(cam)\n",
    "        time = timeit.timeit()\n",
    "        time_.append(time)\n",
    "        # print(irradiance)\n",
    "        irradiance_.append(irradiance)\n",
    "        position = position + step\n",
    "        position_.append(position)\n",
    "    df = pd.DataFrame({'Position': position_,'Irradiance':irradiance_, 'Time':time_})\n",
    "    df.to_csv(f'Calibration_motor_{motor_number}.csv')\n",
    "    return df\n",
    "\n",
    "def steps_per_degree(df, motor_number):\n",
    "    df.Irradiance = (df.Irradiance / df.Irradiance.max()) * 2 -1\n",
    "    df.Irradiance = cv.GaussianBlur(np.array(df.Irradiance.values), ksize=(0, 0), sigmaX=50, borderType=cv.BORDER_REPLICATE)\n",
    "    change_indexes = np.where(np.diff(np.sign(df.Irradiance)))[0] + 1\n",
    "    change_positions = df.Position.iloc[change_indexes]\n",
    "    position_diffs = np.diff(change_positions)\n",
    "    average_position_diff = np.mean(position_diffs)\n",
    "\n",
    "    max_freq = np.pi / average_position_diff\n",
    "    fitted_curve = 0.5 * np.sin( (max_freq) * df['Position'] + 1500)\n",
    "    fig = go.Figure()\n",
    "    # Scatter plot for the original data\n",
    "    fig.add_trace(go.Scatter(x=df.Position, y=df['Irradiance'], mode='markers', name='Original Data'))\n",
    "        # Line plot for the fitted curve\n",
    "    fig.add_trace(go.Scatter(x=df.Position, y=fitted_curve, mode='lines', name='Fitted Curve', line=dict(color='red')))\n",
    "\n",
    "    # Set axis labels and plot title\n",
    "    fig.update_layout(title=f'Fitted Sinusoidal Curve motor {motor_number}',\n",
    "                      xaxis_title='Position',\n",
    "                      yaxis_title='Irradiance')\n",
    "\n",
    "    # Show the interactive plot\n",
    "    fig.write_html(f'Malus_Motor_{motor_number}.html')\n",
    "    print(f'The motor takes {2*average_position_diff} steps to run 360 degrees. Taking {2*average_position_diff/360} steps to move 1 degree')\n",
    "    return 2*average_position_diff/360\n",
    "\n",
    "# Function to calibrate the polarizer\n",
    "def calibrate_element(ser,cam,motor_number,spd):\n",
    "\n",
    "    initial_position = 0\n",
    "\n",
    "    # Measure irradiance\n",
    "    initial_irradiance = measure_irradiance(cam)\n",
    "\n",
    "    # Initialize variables to track minimum intensity and corresponding position\n",
    "    min_intensity = initial_irradiance\n",
    "    min_intensity_position = initial_position\n",
    "    steps = 0\n",
    "    # Move the motor in steps until the intensity starts increasing\n",
    "    while True:\n",
    "        move_motor(ser,motor_number, spd)\n",
    "        current_irradiance = measure_irradiance(cam)\n",
    "\n",
    "        if current_irradiance > min_intensity:\n",
    "            # Intensity has started increasing, break the loop\n",
    "            break\n",
    "\n",
    "    # Move the motor back to the position with minimum intensity\n",
    "    move_motor(ser, motor_number, spd*359)\n",
    "\n",
    "    # Optionally, you can measure the intensity at this position\n",
    "    final_irradiance = measure_irradiance(cam)\n",
    "\n",
    "    print(f\"Calibration complete. Initial Irradiance: {initial_irradiance}, Minimum Irradiance: {min_intensity}, Final Irradiance: {final_irradiance}\")\n",
    "\n",
    "\n",
    "def mueller_mat(data):\n",
    "    m00 = data['HH'] + data['HV'] + data['VH'] + data['VV']\n",
    "    # m00 = m00 / m00.mean()\n",
    "    m02 = data['PH'] + data['PV'] - data['MH'] - data['MV']\n",
    "    # m02 = m02 / m02.mean()\n",
    "    m10 = data['HH'] - data['HV'] + data['VH'] - data['VV']\n",
    "    # m10 = m10 / m10.mean()\n",
    "    m12 = data['PH'] - data['PV'] - data['MH'] + data['MV']\n",
    "    # m12 = m12 / m12.mean()\n",
    "    m20 = data['HP'] - data['HM'] + data['VP'] - data['VM']\n",
    "    # m20 = m20 / m20.mean()\n",
    "    m22 = data['PP'] - data['PM'] - data['MP'] + data['MM']\n",
    "    # m22 = m22 / m22.mean()\n",
    "    m30 = data['HR'] - data['HL'] + data['VR'] - data['VL']\n",
    "    # m30 = m30 / m30.mean()\n",
    "    m32 = data['PR'] - data['PL'] - data['MR'] + data['ML']\n",
    "    # m32 = m32 / m32.mean()\n",
    "    m01 = data['HH'] + data['HV'] - data['VH'] - data['VV']\n",
    "    # m01 = m01 / m01.mean()\n",
    "    m03 = data['RH'] + data['RV'] - data['LH'] - data['LV']\n",
    "    # m03 = m03 / m03.mean()\n",
    "    m11 = data['HH'] - data['HV'] - data['VH'] + data['VV']\n",
    "    # m11 = m11 / m11.mean()\n",
    "    m13 = data['RH'] - data['RV'] - data['LH'] + data['LV']\n",
    "    # m13 = m13 / m13.mean()\n",
    "    m21 = data['HP'] - data['HM'] - data['VP'] + data['VM']\n",
    "    # m21 = m21 / m21.mean()\n",
    "    m23 = data['RP'] - data['RM'] - data['LP'] + data['LM']\n",
    "    # m23 = m23 / m23.mean()\n",
    "    m31 = data['HR'] - data['HL'] - data['VR'] + data['VL']\n",
    "    # m31 = m31 / m\n",
    "    # 31.mean()\n",
    "    m33 = data['LL'] - data['RL'] - data['LR'] + data['RR']\n",
    "    # m33 = m33 / m33.mean()\n",
    "    return m00, m01, m02, m03, m10, m12, m11, m13, m21, m20, m23, m30, m31, m32, m33, m22"
   ],
   "metadata": {
    "collapsed": false,
    "ExecuteTime": {
     "end_time": "2024-03-07T18:56:51.347630Z",
     "start_time": "2024-03-07T18:56:51.311733Z"
    }
   }
  },
  {
   "cell_type": "markdown",
   "source": [
    "## *Default parameters*"
   ],
   "metadata": {
    "collapsed": false
   }
  },
  {
   "cell_type": "code",
   "execution_count": 7,
   "outputs": [
    {
     "ename": "SerialException",
     "evalue": "could not open port 'COM8': OSError(22, 'The semaphore timeout period has expired.', None, 121)",
     "output_type": "error",
     "traceback": [
      "\u001B[1;31m---------------------------------------------------------------------------\u001B[0m",
      "\u001B[1;31mSerialException\u001B[0m                           Traceback (most recent call last)",
      "Cell \u001B[1;32mIn[7], line 5\u001B[0m\n\u001B[0;32m      2\u001B[0m iterations \u001B[38;5;241m=\u001B[39m \u001B[38;5;241m3000\u001B[39m\n\u001B[0;32m      4\u001B[0m \u001B[38;5;66;03m# Initialize serial port\u001B[39;00m\n\u001B[1;32m----> 5\u001B[0m ser \u001B[38;5;241m=\u001B[39m \u001B[43mserial\u001B[49m\u001B[38;5;241;43m.\u001B[39;49m\u001B[43mSerial\u001B[49m\u001B[43m(\u001B[49m\u001B[38;5;124;43m'\u001B[39;49m\u001B[38;5;124;43mCOM8\u001B[39;49m\u001B[38;5;124;43m'\u001B[39;49m\u001B[43m,\u001B[49m\u001B[43m \u001B[49m\u001B[38;5;241;43m115200\u001B[39;49m\u001B[43m)\u001B[49m\n",
      "File \u001B[1;32m~\\Anaconda3\\envs\\Polarimeter\\lib\\site-packages\\serial\\serialwin32.py:33\u001B[0m, in \u001B[0;36mSerial.__init__\u001B[1;34m(self, *args, **kwargs)\u001B[0m\n\u001B[0;32m     31\u001B[0m \u001B[38;5;28mself\u001B[39m\u001B[38;5;241m.\u001B[39m_overlapped_read \u001B[38;5;241m=\u001B[39m \u001B[38;5;28;01mNone\u001B[39;00m\n\u001B[0;32m     32\u001B[0m \u001B[38;5;28mself\u001B[39m\u001B[38;5;241m.\u001B[39m_overlapped_write \u001B[38;5;241m=\u001B[39m \u001B[38;5;28;01mNone\u001B[39;00m\n\u001B[1;32m---> 33\u001B[0m \u001B[38;5;28msuper\u001B[39m(Serial, \u001B[38;5;28mself\u001B[39m)\u001B[38;5;241m.\u001B[39m\u001B[38;5;21m__init__\u001B[39m(\u001B[38;5;241m*\u001B[39margs, \u001B[38;5;241m*\u001B[39m\u001B[38;5;241m*\u001B[39mkwargs)\n",
      "File \u001B[1;32m~\\Anaconda3\\envs\\Polarimeter\\lib\\site-packages\\serial\\serialutil.py:244\u001B[0m, in \u001B[0;36mSerialBase.__init__\u001B[1;34m(self, port, baudrate, bytesize, parity, stopbits, timeout, xonxoff, rtscts, write_timeout, dsrdtr, inter_byte_timeout, exclusive, **kwargs)\u001B[0m\n\u001B[0;32m    241\u001B[0m     \u001B[38;5;28;01mraise\u001B[39;00m \u001B[38;5;167;01mValueError\u001B[39;00m(\u001B[38;5;124m'\u001B[39m\u001B[38;5;124munexpected keyword arguments: \u001B[39m\u001B[38;5;132;01m{!r}\u001B[39;00m\u001B[38;5;124m'\u001B[39m\u001B[38;5;241m.\u001B[39mformat(kwargs))\n\u001B[0;32m    243\u001B[0m \u001B[38;5;28;01mif\u001B[39;00m port \u001B[38;5;129;01mis\u001B[39;00m \u001B[38;5;129;01mnot\u001B[39;00m \u001B[38;5;28;01mNone\u001B[39;00m:\n\u001B[1;32m--> 244\u001B[0m     \u001B[38;5;28;43mself\u001B[39;49m\u001B[38;5;241;43m.\u001B[39;49m\u001B[43mopen\u001B[49m\u001B[43m(\u001B[49m\u001B[43m)\u001B[49m\n",
      "File \u001B[1;32m~\\Anaconda3\\envs\\Polarimeter\\lib\\site-packages\\serial\\serialwin32.py:64\u001B[0m, in \u001B[0;36mSerial.open\u001B[1;34m(self)\u001B[0m\n\u001B[0;32m     62\u001B[0m \u001B[38;5;28;01mif\u001B[39;00m \u001B[38;5;28mself\u001B[39m\u001B[38;5;241m.\u001B[39m_port_handle \u001B[38;5;241m==\u001B[39m win32\u001B[38;5;241m.\u001B[39mINVALID_HANDLE_VALUE:\n\u001B[0;32m     63\u001B[0m     \u001B[38;5;28mself\u001B[39m\u001B[38;5;241m.\u001B[39m_port_handle \u001B[38;5;241m=\u001B[39m \u001B[38;5;28;01mNone\u001B[39;00m    \u001B[38;5;66;03m# 'cause __del__ is called anyway\u001B[39;00m\n\u001B[1;32m---> 64\u001B[0m     \u001B[38;5;28;01mraise\u001B[39;00m SerialException(\u001B[38;5;124m\"\u001B[39m\u001B[38;5;124mcould not open port \u001B[39m\u001B[38;5;132;01m{!r}\u001B[39;00m\u001B[38;5;124m: \u001B[39m\u001B[38;5;132;01m{!r}\u001B[39;00m\u001B[38;5;124m\"\u001B[39m\u001B[38;5;241m.\u001B[39mformat(\u001B[38;5;28mself\u001B[39m\u001B[38;5;241m.\u001B[39mportstr, ctypes\u001B[38;5;241m.\u001B[39mWinError()))\n\u001B[0;32m     66\u001B[0m \u001B[38;5;28;01mtry\u001B[39;00m:\n\u001B[0;32m     67\u001B[0m     \u001B[38;5;28mself\u001B[39m\u001B[38;5;241m.\u001B[39m_overlapped_read \u001B[38;5;241m=\u001B[39m win32\u001B[38;5;241m.\u001B[39mOVERLAPPED()\n",
      "\u001B[1;31mSerialException\u001B[0m: could not open port 'COM8': OSError(22, 'The semaphore timeout period has expired.', None, 121)"
     ]
    }
   ],
   "source": [
    "step = 50\n",
    "iterations = 3000\n",
    "\n",
    "# Initialize serial port\n",
    "ser = serial.Serial('COM8', 115200)"
   ],
   "metadata": {
    "collapsed": false,
    "ExecuteTime": {
     "end_time": "2024-03-07T18:56:56.616512Z",
     "start_time": "2024-03-07T18:56:51.350861Z"
    }
   }
  },
  {
   "cell_type": "code",
   "execution_count": null,
   "outputs": [],
   "source": [
    "move_motor(ser,1, 50)"
   ],
   "metadata": {
    "collapsed": false,
    "ExecuteTime": {
     "end_time": "2024-03-07T18:56:56.622820Z",
     "start_time": "2024-03-07T18:56:56.622820Z"
    }
   }
  },
  {
   "cell_type": "code",
   "execution_count": null,
   "outputs": [],
   "source": [
    "# Initialize camera\n",
    "Camera = IC.TIS_CAM()\n",
    "Camera.open('DMx 41BU02 8410421')\n",
    "Camera.StartLive(1)\n",
    "Camera.SnapImage()\n",
    "measure_irradiance(Camera)"
   ],
   "metadata": {
    "collapsed": false,
    "ExecuteTime": {
     "start_time": "2024-03-07T18:56:56.624863Z"
    }
   }
  },
  {
   "cell_type": "markdown",
   "source": [
    "# Calibration 1: *Calibration of the steps required to move 1 degree.*"
   ],
   "metadata": {
    "collapsed": false
   }
  },
  {
   "cell_type": "markdown",
   "source": [
    "## Calibration 1, MOTOR 1"
   ],
   "metadata": {
    "collapsed": false
   }
  },
  {
   "cell_type": "code",
   "execution_count": null,
   "outputs": [],
   "source": [
    "motor_1 = calibration_spr(ser,Camera,1,step,1000)\n",
    "# motor_1 = pd.read_csv('Calibration_motor_1.csv',index_col=0)\n",
    "d_m1 = steps_per_degree(motor_1,1)"
   ],
   "metadata": {
    "collapsed": false,
    "ExecuteTime": {
     "start_time": "2024-03-07T18:56:56.628041Z"
    }
   }
  },
  {
   "cell_type": "markdown",
   "source": [
    "## Calibration 1, MOTOR 2"
   ],
   "metadata": {
    "collapsed": false
   }
  },
  {
   "cell_type": "code",
   "execution_count": null,
   "outputs": [],
   "source": [
    "move_motor(ser,3,200)"
   ],
   "metadata": {
    "collapsed": false,
    "ExecuteTime": {
     "start_time": "2024-03-07T18:56:56.630038Z"
    }
   }
  },
  {
   "cell_type": "code",
   "execution_count": null,
   "outputs": [],
   "source": [
    "motor_2 = calibration_spr(ser,Camera,1,step,1000)\n",
    "# motor_2 = pd.read_csv('Calibration_motor_2.csv',index_col=0)\n",
    "d_m2 = steps_per_degree(motor_2,2)"
   ],
   "metadata": {
    "collapsed": false,
    "ExecuteTime": {
     "start_time": "2024-03-07T18:56:56.632170Z"
    }
   }
  },
  {
   "cell_type": "markdown",
   "source": [
    "## Calibration 1, MOTOR 3"
   ],
   "metadata": {
    "collapsed": false
   }
  },
  {
   "cell_type": "code",
   "execution_count": null,
   "outputs": [],
   "source": [
    "# motor_3 = calibration_spr(Camera,1,step,iterations)\n",
    "motor_3 = pd.read_csv('Calibration_motor_3.csv',index_col=0)\n",
    "d_m3 = steps_per_degree(motor_3,3)"
   ],
   "metadata": {
    "collapsed": false
   }
  },
  {
   "cell_type": "markdown",
   "source": [
    "## Calibration 1, MOTOR 4"
   ],
   "metadata": {
    "collapsed": false
   }
  },
  {
   "cell_type": "code",
   "execution_count": null,
   "outputs": [],
   "source": [
    "ser.close()\n",
    "ser = serial.Serial('COM8', 115200)\n",
    "motor_4 = calibration_spr(ser,Camera,4,step,iterations)\n",
    "# motor_4 = pd.read_csv('Calibration_motor_4.csv',index_col=0)\n",
    "d_m4 = steps_per_degree(motor_4,4)"
   ],
   "metadata": {
    "collapsed": false
   }
  },
  {
   "cell_type": "markdown",
   "source": [
    "# Calibration 2: *Finding the zero or fast axis of each of the polarization elements*"
   ],
   "metadata": {
    "collapsed": false
   }
  },
  {
   "cell_type": "markdown",
   "source": [
    " Linear polarizer PSA located at **90 degrees**"
   ],
   "metadata": {
    "collapsed": false
   }
  },
  {
   "cell_type": "code",
   "execution_count": null,
   "outputs": [],
   "source": [
    "calibrate_element(Camera,motor_4,d_m4)"
   ],
   "metadata": {
    "collapsed": false,
    "ExecuteTime": {
     "start_time": "2024-03-07T18:56:56.640553Z"
    }
   }
  },
  {
   "cell_type": "markdown",
   "source": [
    "\n",
    "*PSG* $\\lambda /2$'s fast axis aligned to the polarization axis of the source, *zero degrees*\n"
   ],
   "metadata": {
    "collapsed": false
   }
  },
  {
   "cell_type": "code",
   "execution_count": null,
   "outputs": [],
   "source": [
    "calibrate_element(Camera,motor_1,d_m1)"
   ],
   "metadata": {
    "collapsed": false,
    "ExecuteTime": {
     "start_time": "2024-03-07T18:56:56.641552Z"
    }
   }
  },
  {
   "cell_type": "markdown",
   "source": [
    "*PSA* $\\lambda /4$'s fast axis aligned to the polarization axis of the source, *zero degrees*\n"
   ],
   "metadata": {
    "collapsed": false
   }
  },
  {
   "cell_type": "code",
   "execution_count": null,
   "outputs": [],
   "source": [
    "calibrate_element(Camera,motor_2,d_m2)"
   ],
   "metadata": {
    "collapsed": false
   }
  },
  {
   "cell_type": "markdown",
   "source": [
    "*PSA* $\\lambda /4$'s fast axis aligned to the polarization axis of the source, *zero degrees*"
   ],
   "metadata": {
    "collapsed": false
   }
  },
  {
   "cell_type": "code",
   "execution_count": null,
   "outputs": [],
   "source": [
    "calibrate_element(Camera,motor_3,d_m3)"
   ],
   "metadata": {
    "collapsed": false,
    "ExecuteTime": {
     "start_time": "2024-03-07T18:56:56.646901Z"
    }
   }
  },
  {
   "cell_type": "markdown",
   "source": [
    "The intensity should remain at zero, then the linear polarized is shifted again to its zero."
   ],
   "metadata": {
    "collapsed": false
   }
  },
  {
   "cell_type": "code",
   "execution_count": null,
   "outputs": [],
   "source": [
    "measure_irradiance(Camera)\n",
    "move_motor(motor_4, d_m4 * 90)\n",
    "measure_irradiance(Camera)"
   ],
   "metadata": {
    "collapsed": false,
    "ExecuteTime": {
     "start_time": "2024-03-07T18:56:56.650102Z"
    }
   }
  },
  {
   "cell_type": "markdown",
   "source": [
    "# Mueller matrix measurement"
   ],
   "metadata": {
    "collapsed": false
   }
  },
  {
   "cell_type": "markdown",
   "source": [
    "## Initial development just for bright field\n"
   ],
   "metadata": {
    "collapsed": false
   }
  },
  {
   "cell_type": "code",
   "execution_count": null,
   "outputs": [],
   "source": [
    "save_path = 'C:\\Users\\mlope\\OneDrive - Universidad EAFIT\\EAFIT\\Polarimeter\\Polarimeter\\Data\\CalibrationTestDP'\n",
    "angles = np.array([[0, 0, 90, 90], [0, 0, 90, 0], [0, 0, -45, 45], [0, 0, 45, -45],[0, 0, 0, -45], [0, 0, 0, 45],\n",
    "                   [45, 90, 90, 90], [45, 90, 90, 0], [45, 90, -45, 45],[45, 90, 45, -45], [45, 90, 0, -45], [45, 90, 0, 45],\n",
    "                   [-22.5, -45, 90, 90],[-22.5, -45, 90, 0], [-22.5, -45, -45, 45], [-22.5, -45, 45, -45], [-22.5, -45, 0, -45],[-22.5, -45, 0, 45],\n",
    "                   [22.5, 45, 90, 90], [22.5, 45, 90, 0], [22.5, 45, -45, 45], [22.5, 45, 45, -45], [22.5, 45, 0, -45], [22.5, 45, 0, 45],\n",
    "                   [22.5, 90, 90, 90],[22.5, 90, 90, 0], [22.5, 90, -45, 45], [22.5, 90, 45, -45], [22.5, 90, 0, -45], [22.5, 90, 0, 45],\n",
    "                   [45, 90, 90, 90], [45, 90, 90, 0], [45, 90, -45, 45], [45, 90, 45, -45], [45, 90, 0, -45], [45, 90, 0, 45], [0, 0, 0, 0]])\n",
    "\n",
    "\n",
    "df = pd.DataFrame(columns=['Name','Counts'])\n",
    "data = {}\n",
    "names = [['HV', 'HH','HP','HM','HR','HL',\n",
    "          'VV','VH','VP','VM','VR','VL',\n",
    "          'MV','MH','MP','MM','MR','ML',\n",
    "          'PV','PH','PP','PM','PR','PL',\n",
    "          'LV','LH','LP','LM','LR','LL',\n",
    "          'VV','VH','VP','VM','VR','VL','ref']]\n",
    "\n",
    "for angle, name in zip(angles,names):\n",
    "    move_motor(ser, motor_4, d_m4 * angle[0])\n",
    "    move_motor(ser, motor_4, d_m4 * angle[1])\n",
    "    move_motor(ser, motor_4, d_m4 * angle[2])\n",
    "    move_motor(ser, motor_4, d_m4 * angle[3])\n",
    "\n",
    "    time.sleep(1)\n",
    "    image  = Camera.GetImage()\n",
    "    data[name] = image # directly just for bright field\n",
    "    cv.imwrite(image,f'{save_path}/{name}.png')\n",
    "    df = df.append({'Name':name,'Counts':measure_irradiance(Camera)},ignore_index = True)\n",
    "\n",
    "m00, m01, m02, m03, m10, m12, m11, m13, m21, m20, m23, m30, m31, m32, m33, m22 = mueller_mat(data)"
   ],
   "metadata": {
    "collapsed": false
   }
  },
  {
   "cell_type": "markdown",
   "source": [],
   "metadata": {
    "collapsed": false
   }
  }
 ],
 "metadata": {
  "kernelspec": {
   "display_name": "Python 3",
   "language": "python",
   "name": "python3"
  },
  "language_info": {
   "codemirror_mode": {
    "name": "ipython",
    "version": 2
   },
   "file_extension": ".py",
   "mimetype": "text/x-python",
   "name": "python",
   "nbconvert_exporter": "python",
   "pygments_lexer": "ipython2",
   "version": "2.7.6"
  }
 },
 "nbformat": 4,
 "nbformat_minor": 0
}
