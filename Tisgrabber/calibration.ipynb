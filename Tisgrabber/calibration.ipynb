{
 "cells": [
  {
   "cell_type": "markdown",
   "source": [
    "# **Calibration of a complete Mueller polarimeter**\n",
    "*Author*: @ mariajloperaa\n",
    "\n",
    "## This notebook contains all the elements to calibrate and use the automatic Mueller polarimeter. The calibration assumes a vertical polarized light source.\n",
    "The polarimeter consists on a polarized light source, on a PSG a $\\lambda/2$ followed by a $\\lambda/4$, then after the sample a $\\lambda/4$ followed by a linear polarizer.\n",
    "\n",
    "The **initial calibration** consists on finding the steps per revolution or the steps per degree of each motor.\n"
   ],
   "metadata": {
    "collapsed": false
   }
  },
  {
   "cell_type": "code",
   "execution_count": 117,
   "metadata": {
    "collapsed": true,
    "ExecuteTime": {
     "end_time": "2024-02-14T20:03:14.988949Z",
     "start_time": "2024-02-14T20:03:14.988579Z"
    }
   },
   "outputs": [],
   "source": [
    "from polarimeter_functions import *\n",
    "import time\n",
    "import serial\n",
    "import tisgrabber as IC\n",
    "import numpy as np\n",
    "import pandas as pd\n",
    "import cv2 as cv"
   ]
  },
  {
   "cell_type": "markdown",
   "source": [
    "## *Default parameters*"
   ],
   "metadata": {
    "collapsed": false
   }
  },
  {
   "cell_type": "code",
   "execution_count": 316,
   "outputs": [],
   "source": [
    "step = 50\n",
    "iterations = 3000\n",
    "\n",
    "# Initialize serial port\n",
    "ser = serial.Serial('COM8', 115200)\n",
    "# Initialize camera\n",
    "Camera = IC.TIS_CAM()\n"
   ],
   "metadata": {
    "collapsed": false,
    "ExecuteTime": {
     "end_time": "2024-02-15T16:39:27.535857Z",
     "start_time": "2024-02-15T16:39:27.533313Z"
    }
   }
  },
  {
   "cell_type": "markdown",
   "source": [
    "# Calibration 1: *Calibration of the steps required to move 1 degree.*"
   ],
   "metadata": {
    "collapsed": false
   }
  },
  {
   "cell_type": "markdown",
   "source": [
    "## Calibration 1, MOTOR 1"
   ],
   "metadata": {
    "collapsed": false
   }
  },
  {
   "cell_type": "code",
   "execution_count": 318,
   "outputs": [
    {
     "name": "stdout",
     "output_type": "stream",
     "text": [
      "The motor takes 17750.0 steps to run 360 degrees. Taking 49.30555555555556 steps to move 1 degree\n"
     ]
    },
    {
     "data": {
      "text/plain": "49.30555555555556"
     },
     "execution_count": 318,
     "metadata": {},
     "output_type": "execute_result"
    }
   ],
   "source": [
    "# motor_1 = calibration_spr(Camera,1,step,iterations)\n",
    "motor_1 = pd.read_csv('Calibration_motor_1.csv',index_col=0)\n",
    "d_m1 = steps_per_degree(motor_1,1)"
   ],
   "metadata": {
    "collapsed": false,
    "ExecuteTime": {
     "end_time": "2024-02-15T16:40:02.585253Z",
     "start_time": "2024-02-15T16:40:02.560243Z"
    }
   }
  },
  {
   "cell_type": "markdown",
   "source": [
    "## Calibration 1, MOTOR 2"
   ],
   "metadata": {
    "collapsed": false
   }
  },
  {
   "cell_type": "code",
   "execution_count": null,
   "outputs": [],
   "source": [
    "# motor_2 = calibration_spr(Camera,1,step,iterations)\n",
    "motor_2 = pd.read_csv('Calibration_motor_2.csv',index_col=0)\n",
    "d_m2 = steps_per_degree(motor_2,2)"
   ],
   "metadata": {
    "collapsed": false
   }
  },
  {
   "cell_type": "markdown",
   "source": [
    "## Calibration 1, MOTOR 3"
   ],
   "metadata": {
    "collapsed": false
   }
  },
  {
   "cell_type": "code",
   "execution_count": null,
   "outputs": [],
   "source": [
    "# motor_3 = calibration_spr(Camera,1,step,iterations)\n",
    "motor_3 = pd.read_csv('Calibration_motor_3.csv',index_col=0)\n",
    "d_m3 = steps_per_degree(motor_3,3)"
   ],
   "metadata": {
    "collapsed": false
   }
  },
  {
   "cell_type": "markdown",
   "source": [
    "## Calibration 1, MOTOR 4"
   ],
   "metadata": {
    "collapsed": false
   }
  },
  {
   "cell_type": "code",
   "execution_count": null,
   "outputs": [],
   "source": [
    "# motor_4 = calibration_spr(Camera,1,step,iterations)\n",
    "motor_4 = pd.read_csv('Calibration_motor_4.csv',index_col=0)\n",
    "d_m4 = steps_per_degree(motor_4,4)"
   ],
   "metadata": {
    "collapsed": false
   }
  },
  {
   "cell_type": "markdown",
   "source": [
    "# Calibration 2: *Finding the zero or fast axis of each of the polarization elements*"
   ],
   "metadata": {
    "collapsed": false
   }
  },
  {
   "cell_type": "markdown",
   "source": [
    " Linear polarizer PSA located at **90 degrees**"
   ],
   "metadata": {
    "collapsed": false
   }
  },
  {
   "cell_type": "code",
   "execution_count": null,
   "outputs": [],
   "source": [
    "calibrate_element(Camera,motor_4,d_m4)"
   ],
   "metadata": {
    "collapsed": false
   }
  },
  {
   "cell_type": "markdown",
   "source": [
    "\n",
    "*PSG* $\\lambda /2$'s fast axis aligned to the polarization axis of the source, *zero degrees*\n"
   ],
   "metadata": {
    "collapsed": false
   }
  },
  {
   "cell_type": "code",
   "execution_count": null,
   "outputs": [],
   "source": [
    "calibrate_element(Camera,motor_1,d_m1)"
   ],
   "metadata": {
    "collapsed": false
   }
  },
  {
   "cell_type": "markdown",
   "source": [
    "*PSA* $\\lambda /4$'s fast axis aligned to the polarization axis of the source, *zero degrees*\n"
   ],
   "metadata": {
    "collapsed": false
   }
  },
  {
   "cell_type": "code",
   "execution_count": null,
   "outputs": [],
   "source": [
    "calibrate_element(Camera,motor_2,d_m2)"
   ],
   "metadata": {
    "collapsed": false
   }
  },
  {
   "cell_type": "markdown",
   "source": [
    "*PSA* $\\lambda /4$'s fast axis aligned to the polarization axis of the source, *zero degrees*"
   ],
   "metadata": {
    "collapsed": false
   }
  },
  {
   "cell_type": "code",
   "execution_count": null,
   "outputs": [],
   "source": [
    "calibrate_element(Camera,motor_3,d_m3)"
   ],
   "metadata": {
    "collapsed": false
   }
  },
  {
   "cell_type": "markdown",
   "source": [
    "The intensity should remain at zero, then the linear polarized is shifted again to its zero."
   ],
   "metadata": {
    "collapsed": false
   }
  },
  {
   "cell_type": "code",
   "execution_count": null,
   "outputs": [],
   "source": [
    "measure_irradiance(Camera)\n",
    "move_motor(motor_4, d_m4 * 90)\n",
    "measure_irradiance(Camera)"
   ],
   "metadata": {
    "collapsed": false
   }
  },
  {
   "cell_type": "markdown",
   "source": [
    "# Mueller matrix measurement"
   ],
   "metadata": {
    "collapsed": false
   }
  },
  {
   "cell_type": "markdown",
   "source": [
    "## Initial development just for bright field\n"
   ],
   "metadata": {
    "collapsed": false
   }
  },
  {
   "cell_type": "code",
   "execution_count": null,
   "outputs": [],
   "source": [
    "save_path = ''\n",
    "angles = np.array([[0, 0, 90, 90], [0, 0, 90, 0], [0, 0, -45, 45], [0, 0, 45, -45],[0, 0, 0, -45], [0, 0, 0, 45],\n",
    "                   [45, 90, 90, 90], [45, 90, 90, 0], [45, 90, -45, 45],[45, 90, 45, -45], [45, 90, 0, -45], [45, 90, 0, 45],\n",
    "                   [-22.5, -45, 90, 90],[-22.5, -45, 90, 0], [-22.5, -45, -45, 45], [-22.5, -45, 45, -45], [-22.5, -45, 0, -45],[-22.5, -45, 0, 45],\n",
    "                   [22.5, 45, 90, 90], [22.5, 45, 90, 0], [22.5, 45, -45, 45], [22.5, 45, 45, -45], [22.5, 45, 0, -45], [22.5, 45, 0, 45],\n",
    "                   [22.5, 90, 90, 90],[22.5, 90, 90, 0], [22.5, 90, -45, 45], [22.5, 90, 45, -45], [22.5, 90, 0, -45], [22.5, 90, 0, 45],\n",
    "                   [45, 90, 90, 90], [45, 90, 90, 0], [45, 90, -45, 45], [45, 90, 45, -45], [45, 90, 0, -45], [45, 90, 0, 45], [0, 0, 0, 0]])\n",
    "\n",
    "\n",
    "df = pd.DataFrame(columns=['Name','Counts'])\n",
    "data = {}\n",
    "names = [['HV', 'HH','HP','HM','HR','HL',\n",
    "          'VV','VH','VP','VM','VR','VL',\n",
    "          'MV','MH','MP','MM','MR','ML',\n",
    "          'PV','PH','PP','PM','PR','PL',\n",
    "          'LV','LH','LP','LM','LR','LL',\n",
    "          'VV','VH','VP','VM','VR','VL','ref']]\n",
    "\n",
    "for angle, name in zip(angles,names):\n",
    "    move_motor(motor_4, d_m4 * angle[0])\n",
    "    move_motor(motor_4, d_m4 * angle[1])\n",
    "    move_motor(motor_4, d_m4 * angle[2])\n",
    "    move_motor(motor_4, d_m4 * angle[3])\n",
    "\n",
    "    time.sleep(1)\n",
    "    image  = Camera.GetImage()\n",
    "    data[name] = image # directly just for bright field\n",
    "    cv.imwrite(image,f'{save_path}/{name}.png')\n",
    "    df = df.append({'Name':name,'Counts':measure_irradiance(Camera)},ignore_index = True)\n",
    "\n",
    "m00, m01, m02, m03, m10, m12, m11, m13, m21, m20, m23, m30, m31, m32, m33, m22 = mueller_mat(data)"
   ],
   "metadata": {
    "collapsed": false
   }
  },
  {
   "cell_type": "markdown",
   "source": [],
   "metadata": {
    "collapsed": false
   }
  }
 ],
 "metadata": {
  "kernelspec": {
   "display_name": "Python 3",
   "language": "python",
   "name": "python3"
  },
  "language_info": {
   "codemirror_mode": {
    "name": "ipython",
    "version": 2
   },
   "file_extension": ".py",
   "mimetype": "text/x-python",
   "name": "python",
   "nbconvert_exporter": "python",
   "pygments_lexer": "ipython2",
   "version": "2.7.6"
  }
 },
 "nbformat": 4,
 "nbformat_minor": 0
}
